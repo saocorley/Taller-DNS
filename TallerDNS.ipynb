{
  "nbformat": 4,
  "nbformat_minor": 0,
  "metadata": {
    "colab": {
      "name": "TallerDNS.ipynb",
      "provenance": [],
      "collapsed_sections": []
    },
    "kernelspec": {
      "name": "python3",
      "display_name": "Python 3"
    },
    "language_info": {
      "name": "python"
    }
  },
  "cells": [
    {
      "cell_type": "markdown",
      "source": [
        "# Taller DNS\n",
        "En este taller vamos a trabajar sobre el protocolo DNS. Utilizaremos la biblioteca [**Scapy**](https://scapy.readthedocs.io/en/latest/) de Pyhton, que nos permite armar paquetes de forma super sencilla, usando las capas que probamos. Ejecuten la siguiente celda para instalarlo en este collab de ahora:\n",
        "\n"
      ],
      "metadata": {
        "id": "evU1xLge5kWI"
      }
    },
    {
      "cell_type": "code",
      "execution_count": null,
      "metadata": {
        "id": "5zOGK9DO3Fvp"
      },
      "outputs": [],
      "source": [
        "%pip install scapy\n",
        "import scapy.all as scapy"
      ]
    },
    {
      "cell_type": "markdown",
      "source": [
        "A continuación, importemos Scapy y armemos nuestro primer paquete. Vamos a crear un paquete IP, que pertenece a la capa de Red (todavía no vimos en profundidad esta capa, pero nos vamos a adelantar un poco a la teoría para poder completar este taller)."
      ],
      "metadata": {
        "id": "mIvvF8uH55bi"
      }
    },
    {
      "cell_type": "code",
      "source": [
        "pck = scapy.IP() # Creamos un paquete inicializado con valores default\n",
        "pck.ttl = 64 # \"Le definimos un TTl. Con esto ya podríamos simular un traceroute!\n",
        "pck.dst = \"www.google.com\" # Le definimos una URL destino\n",
        "pck"
      ],
      "metadata": {
        "id": "1D7C7yKC3Whi",
        "colab": {
          "base_uri": "https://localhost:8080/"
        },
        "outputId": "67e61135-e6af-4c4f-8eb7-105d29669988"
      },
      "execution_count": null,
      "outputs": [
        {
          "output_type": "execute_result",
          "data": {
            "text/plain": [
              "<IP  ttl=64 dst=Net(\"www.google.com/32\") |>"
            ]
          },
          "metadata": {},
          "execution_count": 2
        }
      ]
    },
    {
      "cell_type": "markdown",
      "source": [
        "# **Ejercicio 0**\n",
        "Además de crear paquetes, también podemos enviarlos usando Scapy. En este caso, vamos a enviar un paquete con un TTL bajo para que el paquete no llegue a su destino, e inspeccionar la respuesta (ojo! la respuesta no está interpretada por Scapy, esa responsabilidad corre por nuestra cuenta).\n",
        "Luego de crear un paquete, la función para enviár un mensaje IP en Sacpy y guardar la respuesta es `sr1(paquete)`.\n",
        "Para mostrar el contenido de la respuesta podemos usar el método `show()`."
      ],
      "metadata": {
        "id": "521Urwkg7SIb"
      }
    },
    {
      "cell_type": "code",
      "source": [
        "#RESOLVER ACÁ"
      ],
      "metadata": {
        "id": "UpNDY5ry4ycq"
      },
      "execution_count": null,
      "outputs": []
    },
    {
      "cell_type": "markdown",
      "source": [
        "Ahora ya sabemos como mandar paquetes IP (capa de Red). \n",
        "Pero también podemos especificar qué protocolo de la capa superior quisieramos usar. A nivel transporte podemos elegir TCP o UDP.\n",
        "Este tipo de indicaciones las podemos hacer usando la `\"/\"`."
      ],
      "metadata": {
        "id": "tsuzPfV68V_M"
      }
    },
    {
      "cell_type": "code",
      "source": [
        "import scapy.all as scapy\n",
        "pck = scapy.IP(ttl = 64, dst = \"www.google.com\") / scapy.TCP() # Creamos un paquete en la capa de transporte (igualmente le podemos cambiar cosas de la capa de abajo! como el TTL)\n",
        "pck.dst = \"www.google.com\" # Le definimos una URL destino\n",
        "pck"
      ],
      "metadata": {
        "id": "Rgu7UkjX9rMy"
      },
      "execution_count": null,
      "outputs": []
    },
    {
      "cell_type": "markdown",
      "source": [
        "# **Ejercicio 1**\n",
        "Deberán armar un paquete DNS y recibir la respuesta. En particular, resuelvan la direccion www.google.com  Para eso tendrán que:\n",
        "\n",
        "    1- Crear un paquete IP. Su destino debe ser el de algún servidor DNS (Por ejemplo, el DNS publico de *google* es **8.8.8.8**)\n",
        "\n",
        "    2- Asignarle un protocolo de capa de transporte a ese paquete. ¿Debería un request DNS ser UDP o TCP? ¿Que puerto de destino debería tener un request DNS?\n",
        "\n",
        "    3- Al mismo paquete, deben modificale info a nivel aplicación (usen \\ DNS() ).\n",
        "    \n",
        "    4- Inspeccionen las respuestas recibidas y analicen el paquete. ¿La IP en la respuesta correspondiente efectivamente a www.google.com? (Esto lo podemos verificar enviando un *ping* a la dirección, o ingresando a http://*ip_recibido* desde el navegador).\n",
        "\n",
        "Al paquete DNS deberán definirle algunos campos. Revisen la [documentación](https://scapy.readthedocs.io/en/latest/api/scapy.layers.dns.html?highlight=dns#scapy.layers.dns.DNS.fields_desc) de los paquetes DNS para determinar cómo usar la función `DNSQR` para modificar campos de su query. En particular, se necesitará modificar el campo QD (cuerpo) del paquete, formado por:\n",
        "\n",
        "    a) qname: el nombre a resolver.\n",
        "    b) qtype: si se resuelve un mail o una página web.\n",
        "    c) qclass: irrelevante para lo que queremos, no lo toquen jeje.\n",
        "\n",
        "\n",
        "\n",
        "\n"
      ],
      "metadata": {
        "id": "JQd5X_RpBKZN"
      }
    },
    {
      "cell_type": "code",
      "source": [
        "# RESOLVER ACA"
      ],
      "metadata": {
        "id": "H_jOF6B0bvOK"
      },
      "execution_count": null,
      "outputs": []
    },
    {
      "cell_type": "markdown",
      "source": [
        "## Ejercicio 2\n",
        "\n",
        "Como vieron en la clase teórica, las consultas DNS pueden resolverse de manera iterativa. Es decir que el servidor (**8.8.8.8** en el caso del ejercicio anterior) va a realizar una consulta a cada *nameserver* que especifica una zona en la url. \n",
        "\n",
        "Por ejemplo, en la url www.google.com primero se va a resolver el servidor correspondiente a **.com** y luego, a este servidor se le va a preguntar por la dirección correspondiente al nameserver autoritativo de **.google**.\n",
        "\n",
        "Pero, ¿qué servidor sabe la dirección del nameserver **.com** originalmente?. Para ello existen los llamados **Root Name Servers**. Estos tienen direcciones IP constantes, con lo cual no debemos resolverla y por lo tanto son siempre el punto de partida para cualquier resolución. Pueden visitar este [link](https://en.wikipedia.org/wiki/Root_name_server) para ver la lista completa de **RNSs**.\n",
        "\n",
        "    1- Enviar misma consulta del ejercicio anterior pero a un Root name server. ¿Nos da el mismo resultado que antes?\n",
        "    2- Realizar las consultas iterativas para obtener la dirección IP de la url *www.google.com*."
      ],
      "metadata": {
        "id": "sfcMhs4mU9J0"
      }
    },
    {
      "cell_type": "code",
      "source": [
        "# RESOLVER ACA"
      ],
      "metadata": {
        "id": "7aL9iS_Gfgb9"
      },
      "execution_count": null,
      "outputs": []
    }
  ]
}